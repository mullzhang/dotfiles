{
  "nbformat": 4,
  "nbformat_minor": 0,
  "metadata": {
    "colab": {
      "name": "chimera_spinglass_model.ipynb",
      "provenance": [],
      "collapsed_sections": [],
      "authorship_tag": "ABX9TyMEoOMGrkMEGFKtKEGyG3r0",
      "include_colab_link": true
    },
    "kernelspec": {
      "name": "python3",
      "display_name": "Python 3"
    },
    "language_info": {
      "name": "python"
    }
  },
  "cells": [
    {
      "cell_type": "markdown",
      "metadata": {
        "id": "view-in-github",
        "colab_type": "text"
      },
      "source": [
        "<a href=\"https://colab.research.google.com/github/mullzhang/dotfiles/blob/master/chimera/chimera_spinglass_model.ipynb\" target=\"_parent\"><img src=\"https://colab.research.google.com/assets/colab-badge.svg\" alt=\"Open In Colab\"/></a>"
      ]
    },
    {
      "cell_type": "code",
      "metadata": {
        "colab": {
          "base_uri": "https://localhost:8080/"
        },
        "id": "6ezF1PhaavDU",
        "outputId": "55036330-2604-409f-b5c0-538f9948c38e"
      },
      "source": [
        "!pip install git+https://github.com/mullzhang/qanneal.git\n",
        "!pip install qutip"
      ],
      "execution_count": null,
      "outputs": [
        {
          "output_type": "stream",
          "text": [
            "Collecting git+https://github.com/mullzhang/qanneal.git\n",
            "  Cloning https://github.com/mullzhang/qanneal.git to /tmp/pip-req-build-hvgrs0ot\n",
            "  Running command git clone -q https://github.com/mullzhang/qanneal.git /tmp/pip-req-build-hvgrs0ot\n",
            "Requirement already satisfied: numpy>=1.19.1 in /usr/local/lib/python3.7/dist-packages (from qanneal==0.0.3) (1.19.5)\n",
            "Collecting dimod>=0.9.11\n",
            "\u001b[?25l  Downloading https://files.pythonhosted.org/packages/93/4a/a767a8588bc11d414f1f517d015b4ebbc1e25fc409a8fa552c2f8be0b5b0/dimod-0.9.14-cp37-cp37m-manylinux1_x86_64.whl (7.0MB)\n",
            "\u001b[K     |████████████████████████████████| 7.0MB 4.6MB/s \n",
            "\u001b[?25hCollecting qutip>=4.5.2\n",
            "\u001b[?25l  Downloading https://files.pythonhosted.org/packages/01/21/238e0d63daad4c3fe85fab3df1bf6481ebb15edc1983dce94b7a4c5f7807/qutip-4.6.0-cp37-cp37m-manylinux2010_x86_64.whl (14.6MB)\n",
            "\u001b[K     |████████████████████████████████| 14.6MB 247kB/s \n",
            "\u001b[?25hRequirement already satisfied: scipy>=1.0 in /usr/local/lib/python3.7/dist-packages (from qutip>=4.5.2->qanneal==0.0.3) (1.4.1)\n",
            "Building wheels for collected packages: qanneal\n",
            "  Building wheel for qanneal (setup.py) ... \u001b[?25l\u001b[?25hdone\n",
            "  Created wheel for qanneal: filename=qanneal-0.0.3-cp37-none-any.whl size=3246 sha256=dac4bca87fcebbd40cc3b04e5e4ee443f7b1cd66bf18163e4740b56fac39aaf6\n",
            "  Stored in directory: /tmp/pip-ephem-wheel-cache-ff_x4tgv/wheels/0a/71/ab/a7c3813721238cdbf7377aab7d727c1381d063c6a8dad53d6d\n",
            "Successfully built qanneal\n",
            "Installing collected packages: dimod, qutip, qanneal\n",
            "Successfully installed dimod-0.9.14 qanneal-0.0.3 qutip-4.6.0\n"
          ],
          "name": "stdout"
        }
      ]
    },
    {
      "cell_type": "code",
      "metadata": {
        "id": "gikfsHzMbgn5"
      },
      "source": [
        "N = 8\n",
        "h1 = -0.3\n",
        "h2 = 1\n",
        "\n",
        "h = {0: h1, 1: h1, 2: h1, 3: h1,\n",
        "     4: h2, 5: h2, 6: h2, 7: h2}\n",
        "J = {(0, 2): -1, (0, 3): -1, (1, 2): -1, (1, 3): -1,\n",
        "     (4, 6): -1, (4, 7): -1, (5, 7): -1, (5, 7): -1,\n",
        "     (2, 6): -1, (3, 7): -1}"
      ],
      "execution_count": null,
      "outputs": []
    },
    {
      "cell_type": "code",
      "metadata": {
        "id": "tiG6ewhGbgfM"
      },
      "source": [
        "from qanneal.sdeq import IsingHamiltonian\n",
        "\n",
        "ising = IsingHamiltonian(h, J)\n",
        "ising.induce_transverse_field()"
      ],
      "execution_count": null,
      "outputs": []
    },
    {
      "cell_type": "code",
      "metadata": {
        "colab": {
          "base_uri": "https://localhost:8080/"
        },
        "id": "HSkXXSrQdk1y",
        "outputId": "21c49dc3-7d30-4a5e-ad91-7b58655af371"
      },
      "source": [
        "import numpy as np\n",
        "\n",
        "evals, evecs = ising.H_prob.eigenstates()\n",
        "index_gs = int(np.argwhere(evals == np.min(evals)))\n",
        "eval_gs = evals[index_gs]\n",
        "evec_gs = evecs[index_gs]\n",
        "evals, eval_gs\n",
        "\n",
        "# e_ops = [ket2dm(ev) for ev in evecs[:num_gstates]]\n",
        "\n",
        "# expects = ising.solve_sdeq(tlist, e_ops=e_ops)\n",
        "# expects.expect.shape"
      ],
      "execution_count": null,
      "outputs": [
        {
          "output_type": "execute_result",
          "data": {
            "text/plain": [
              "(array([-11.8, -10.2,  -8.4,  -8.4,  -8.2,  -7.8,  -7.6,  -7.6,  -7. ,\n",
              "         -7. ,  -7. ,  -7. ,  -6.4,  -6.4,  -6.2,  -6.2,  -6.2,  -6.2,\n",
              "         -6.2,  -6.2,  -5.8,  -5.8,  -5.6,  -5.6,  -5.6,  -5. ,  -5. ,\n",
              "         -5. ,  -4.4,  -4.4,  -4.4,  -4.2,  -4.2,  -4.2,  -4.2,  -4.2,\n",
              "         -4.2,  -3.8,  -3.8,  -3.8,  -3.6,  -3.6,  -3.6,  -3.6,  -3.6,\n",
              "         -3.6,  -3.6,  -3. ,  -3. ,  -3. ,  -3. ,  -3. ,  -3. ,  -3. ,\n",
              "         -3. ,  -3. ,  -3. ,  -2.4,  -2.4,  -2.4,  -2.4,  -2.4,  -2.4,\n",
              "         -2.4,  -2.4,  -2.4,  -2.2,  -1.8,  -1.8,  -1.8,  -1.8,  -1.6,\n",
              "         -1.6,  -1.6,  -1.6,  -1.6,  -1.6,  -1.6,  -1.6,  -1.6,  -1.6,\n",
              "         -1.6,  -1.6,  -1.6,  -1.6,  -1.6,  -1.6,  -1.6,  -1.6,  -1. ,\n",
              "         -1. ,  -1. ,  -1. ,  -1. ,  -1. ,  -1. ,  -1. ,  -1. ,  -1. ,\n",
              "         -1. ,  -1. ,  -1. ,  -1. ,  -0.4,  -0.4,  -0.4,  -0.4,  -0.4,\n",
              "         -0.4,  -0.4,  -0.4,  -0.4,  -0.4,  -0.4,  -0.4,  -0.2,   0.2,\n",
              "          0.2,   0.2,   0.4,   0.4,   0.4,   0.4,   0.4,   0.4,   0.4,\n",
              "          0.4,   0.4,   0.4,   0.4,   0.4,   0.4,   0.4,   0.4,   0.4,\n",
              "          0.4,   0.4,   0.4,   0.4,   1. ,   1. ,   1. ,   1. ,   1. ,\n",
              "          1. ,   1. ,   1. ,   1. ,   1. ,   1. ,   1. ,   1. ,   1. ,\n",
              "          1. ,   1. ,   1. ,   1. ,   1. ,   1.6,   1.6,   1.6,   1.6,\n",
              "          1.6,   1.6,   1.6,   1.6,   1.6,   1.6,   1.6,   1.6,   1.6,\n",
              "          1.6,   1.6,   1.6,   2.2,   2.2,   2.4,   2.4,   2.4,   2.4,\n",
              "          2.4,   2.4,   2.4,   2.4,   2.4,   2.4,   2.4,   3. ,   3. ,\n",
              "          3. ,   3. ,   3. ,   3. ,   3. ,   3. ,   3. ,   3. ,   3. ,\n",
              "          3. ,   3. ,   3. ,   3. ,   3. ,   3. ,   3. ,   3. ,   3. ,\n",
              "          3. ,   3. ,   3. ,   3. ,   3. ,   3. ,   3. ,   3.6,   3.6,\n",
              "          3.6,   3.6,   3.6,   3.6,   3.6,   3.6,   3.6,   3.6,   3.6,\n",
              "          3.6,   3.6,   3.6,   3.6,   4.4,   4.4,   4.4,   5. ,   5. ,\n",
              "          5. ,   5. ,   5. ,   5. ,   5. ,   5. ,   5. ,   5. ,   5. ,\n",
              "          5. ,   5.6,   5.6,   5.6,   5.6,   5.6,   7. ,   7. ,   7. ,\n",
              "          7. ,   9. ,   9. ,   9. ]), -11.8)"
            ]
          },
          "metadata": {
            "tags": []
          },
          "execution_count": 22
        }
      ]
    },
    {
      "cell_type": "code",
      "metadata": {
        "colab": {
          "base_uri": "https://localhost:8080/"
        },
        "id": "v3Dsnej_dkxb",
        "outputId": "d023ac87-2ba3-4220-9493-3ebb068a3b48"
      },
      "source": [
        "s = 0.1\n",
        "H_perturb = (1 - s) * ising.H_driver + s * ising.H_prob\n",
        "evals_perturb, ekets_perturb = H_perturb.eigenstates()\n",
        "evals_perturb, len(ekets_perturb)"
      ],
      "execution_count": null,
      "outputs": [
        {
          "output_type": "execute_result",
          "data": {
            "text/plain": [
              "(array([-7.25285038e+00, -5.68921620e+00, -5.57405667e+00, -5.54241533e+00,\n",
              "        -5.44036642e+00, -5.43304180e+00, -5.32579360e+00, -5.29562462e+00,\n",
              "        -5.20973229e+00, -4.05411247e+00, -3.92310433e+00, -3.89860841e+00,\n",
              "        -3.84885110e+00, -3.81515130e+00, -3.81321226e+00, -3.79445778e+00,\n",
              "        -3.74767845e+00, -3.74257373e+00, -3.70473537e+00, -3.68251782e+00,\n",
              "        -3.66412254e+00, -3.63848106e+00, -3.62962464e+00, -3.62274762e+00,\n",
              "        -3.61911617e+00, -3.59258137e+00, -3.56393283e+00, -3.53148428e+00,\n",
              "        -3.50935671e+00, -3.49172782e+00, -3.45821517e+00, -3.43742834e+00,\n",
              "        -3.42010424e+00, -3.38551554e+00, -3.35923805e+00, -3.33992607e+00,\n",
              "        -3.21684293e+00, -2.34003048e+00, -2.22474589e+00, -2.19195727e+00,\n",
              "        -2.11985534e+00, -2.11749344e+00, -2.10610583e+00, -2.07144030e+00,\n",
              "        -2.04361134e+00, -2.03776460e+00, -2.01545997e+00, -2.01255446e+00,\n",
              "        -2.01007982e+00, -1.97825122e+00, -1.97294755e+00, -1.96460552e+00,\n",
              "        -1.94879547e+00, -1.94819274e+00, -1.93507128e+00, -1.92421916e+00,\n",
              "        -1.92111804e+00, -1.89878437e+00, -1.88262846e+00, -1.87370004e+00,\n",
              "        -1.86802889e+00, -1.85846154e+00, -1.83612145e+00, -1.81972615e+00,\n",
              "        -1.81205061e+00, -1.80770436e+00, -1.80172617e+00, -1.78463817e+00,\n",
              "        -1.76607375e+00, -1.75489854e+00, -1.75154491e+00, -1.74902544e+00,\n",
              "        -1.72489156e+00, -1.70293549e+00, -1.69884645e+00, -1.69141164e+00,\n",
              "        -1.67524363e+00, -1.67462596e+00, -1.65969210e+00, -1.65298894e+00,\n",
              "        -1.65171687e+00, -1.61054281e+00, -1.60645267e+00, -1.60178436e+00,\n",
              "        -1.58910273e+00, -1.56238475e+00, -1.55235766e+00, -1.52452246e+00,\n",
              "        -1.50645561e+00, -1.50503527e+00, -1.43510236e+00, -1.40747086e+00,\n",
              "        -1.29483790e+00, -5.57655538e-01, -4.53215877e-01, -3.77080248e-01,\n",
              "        -3.45805603e-01, -3.38821551e-01, -3.26623867e-01, -2.97613919e-01,\n",
              "        -2.83891419e-01, -2.69887452e-01, -2.61953100e-01, -2.32105644e-01,\n",
              "        -2.26129142e-01, -2.20345395e-01, -2.14218575e-01, -1.81676910e-01,\n",
              "        -1.79786298e-01, -1.71132107e-01, -1.67535404e-01, -1.54055973e-01,\n",
              "        -1.48984037e-01, -1.37639531e-01, -1.21693248e-01, -1.09758540e-01,\n",
              "        -9.91663731e-02, -9.76519101e-02, -8.14847936e-02, -7.06239066e-02,\n",
              "        -6.53131506e-02, -4.52076042e-02, -3.93863277e-02, -3.34756772e-02,\n",
              "        -1.79045154e-02, -2.53679620e-03, -6.36657024e-04, -4.16345645e-04,\n",
              "         5.41649930e-04,  1.14600209e-03,  2.53400833e-03,  1.85724747e-02,\n",
              "         3.40261644e-02,  3.91652296e-02,  4.69465649e-02,  6.60594513e-02,\n",
              "         7.27828776e-02,  7.93435346e-02,  1.00031497e-01,  1.00146050e-01,\n",
              "         1.09103445e-01,  1.22715488e-01,  1.37011418e-01,  1.49796372e-01,\n",
              "         1.53040737e-01,  1.70102628e-01,  1.71122136e-01,  1.80120532e-01,\n",
              "         1.82092947e-01,  2.15369947e-01,  2.22225083e-01,  2.29292592e-01,\n",
              "         2.35447015e-01,  2.64467709e-01,  2.72468639e-01,  2.83845343e-01,\n",
              "         2.96105561e-01,  3.28141256e-01,  3.41167290e-01,  3.47880226e-01,\n",
              "         3.76843756e-01,  4.55026647e-01,  5.60929398e-01,  1.29626711e+00,\n",
              "         1.40898072e+00,  1.43586386e+00,  1.50644905e+00,  1.50797779e+00,\n",
              "         1.52335321e+00,  1.55504387e+00,  1.56329296e+00,  1.58721592e+00,\n",
              "         1.60112405e+00,  1.60793045e+00,  1.61183619e+00,  1.65170418e+00,\n",
              "         1.65388881e+00,  1.66056034e+00,  1.67502082e+00,  1.67587727e+00,\n",
              "         1.69164136e+00,  1.69908344e+00,  1.70161235e+00,  1.72473981e+00,\n",
              "         1.75024807e+00,  1.75025326e+00,  1.75345646e+00,  1.76702714e+00,\n",
              "         1.78503739e+00,  1.80296888e+00,  1.80811760e+00,  1.81222471e+00,\n",
              "         1.82132822e+00,  1.83470970e+00,  1.85957935e+00,  1.86681319e+00,\n",
              "         1.87283390e+00,  1.88342785e+00,  1.89798342e+00,  1.91947288e+00,\n",
              "         1.92477513e+00,  1.93568613e+00,  1.94827758e+00,  1.94926020e+00,\n",
              "         1.96636715e+00,  1.97411042e+00,  1.97857778e+00,  2.01055333e+00,\n",
              "         2.01439201e+00,  2.01636244e+00,  2.03607681e+00,  2.04657359e+00,\n",
              "         2.07133024e+00,  2.10603602e+00,  2.11934375e+00,  2.12067801e+00,\n",
              "         2.19313225e+00,  2.22619970e+00,  2.34232135e+00,  3.21577039e+00,\n",
              "         3.33708412e+00,  3.35727845e+00,  3.38768486e+00,  3.42061462e+00,\n",
              "         3.43744783e+00,  3.45696649e+00,  3.49114315e+00,  3.50614456e+00,\n",
              "         3.53104728e+00,  3.56192171e+00,  3.59331397e+00,  3.62003954e+00,\n",
              "         3.62126757e+00,  3.62473331e+00,  3.63369835e+00,  3.66302606e+00,\n",
              "         3.68148000e+00,  3.70384965e+00,  3.73941410e+00,  3.74742032e+00,\n",
              "         3.79382168e+00,  3.81413803e+00,  3.81589129e+00,  3.85187278e+00,\n",
              "         3.89659397e+00,  3.92017572e+00,  4.05414020e+00,  5.20514790e+00,\n",
              "         5.29363504e+00,  5.32230933e+00,  5.43033297e+00,  5.43444432e+00,\n",
              "         5.53927354e+00,  5.57306833e+00,  5.68485047e+00,  7.24612071e+00]),\n",
              " 256)"
            ]
          },
          "metadata": {
            "tags": []
          },
          "execution_count": 21
        }
      ]
    },
    {
      "cell_type": "code",
      "metadata": {
        "id": "sc7YP2-ibQUt"
      },
      "source": [
        ""
      ],
      "execution_count": null,
      "outputs": []
    }
  ]
}